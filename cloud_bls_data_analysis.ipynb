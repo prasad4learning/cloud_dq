{
 "cells": [
  {
   "cell_type": "markdown",
   "id": "3c9690e8-93ec-4753-b3f5-a58858b74da8",
   "metadata": {},
   "source": [
    "Importing Libraries"
   ]
  },
  {
   "cell_type": "code",
   "execution_count": 1,
   "id": "0717b6d2-969c-48d8-b650-1b11ecfde1a1",
   "metadata": {},
   "outputs": [],
   "source": [
    "# Dat Data Quest Task - Part 3\n",
    "\n",
    "# Import libraries\n",
    "import pandas as pd\n",
    "import boto3\n",
    "import json\n",
    "import io  # For reading files from S3"
   ]
  },
  {
   "cell_type": "markdown",
   "id": "5ff252cc-81e5-47b1-b50e-7449af6255f9",
   "metadata": {},
   "source": [
    "Configure S3 Access"
   ]
  },
  {
   "cell_type": "code",
   "execution_count": 2,
   "id": "1f2be48b-706b-41da-a86e-07e59f44546c",
   "metadata": {},
   "outputs": [],
   "source": [
    "# Configure S3 Access\n",
    "S3_BUCKET = \"arc-cloud-dq\"  # Replace with your actual bucket name\n",
    "S3_REGION = \"us-east-1\"  # Replace with your bucket's region\n",
    "\n",
    "s3_client = boto3.client(\"s3\", region_name=S3_REGION)\n"
   ]
  },
  {
   "cell_type": "markdown",
   "id": "12ba6fba-1d65-455c-b560-17b8173de809",
   "metadata": {},
   "source": [
    "Loading Data from S3 into Pandas DataFrames"
   ]
  },
  {
   "cell_type": "code",
   "execution_count": 3,
   "id": "0790e4f0-5033-488d-8437-11033a82f3a9",
   "metadata": {},
   "outputs": [
    {
     "name": "stdout",
     "output_type": "stream",
     "text": [
      "BLS Data:\n",
      "   series_id          year period         value footnote_codes\n",
      "0  PRS30006011        1995    Q01           2.6            NaN\n",
      "1  PRS30006011        1995    Q02           2.1            NaN\n",
      "2  PRS30006011        1995    Q03           0.9            NaN\n",
      "3  PRS30006011        1995    Q04           0.1            NaN\n",
      "4  PRS30006011        1995    Q05           1.4            NaN\n",
      "BLS loaded\n",
      "Columns in BLS data: Index(['series_id        ', 'year', 'period', '       value',\n",
      "       'footnote_codes'],\n",
      "      dtype='object')\n",
      "\n",
      "Population Data:\n",
      "  ID Nation         Nation  ID Year  Year  Population    Slug Nation\n",
      "0   01000US  United States     2022  2022   331097593  united-states\n",
      "1   01000US  United States     2021  2021   329725481  united-states\n",
      "2   01000US  United States     2020  2020   326569308  united-states\n",
      "3   01000US  United States     2019  2019   324697795  united-states\n",
      "4   01000US  United States     2018  2018   322903030  united-states\n",
      "Population data loaded\n",
      "Columns in Population data: Index(['ID Nation', 'Nation', 'ID Year', 'Year', 'Population', 'Slug Nation'], dtype='object')\n"
     ]
    }
   ],
   "source": [
    "def load_csv_from_s3(s3_client, bucket_name, file_key):\n",
    "    \"\"\"\n",
    "    Loads a CSV file from S3 into a Pandas DataFrame.\n",
    "    Specify the tab separated files\n",
    "    \"\"\"\n",
    "    try:\n",
    "        response = s3_client.get_object(Bucket=bucket_name, Key=file_key)\n",
    "        csv_data = response['Body'].read().decode('utf-8')\n",
    "        df = pd.read_csv(io.StringIO(csv_data), sep='\\t')  # Specify tab separator\n",
    "        return df\n",
    "    except Exception as e:\n",
    "        print(f\"Error loading CSV from S3: {e}\")\n",
    "        return None\n",
    "\n",
    "def load_json_from_s3(s3_client, bucket_name, file_key):\n",
    "    \"\"\"Loads a JSON file from S3 into a Pandas DataFrame.\"\"\"\n",
    "    try:\n",
    "        response = s3_client.get_object(Bucket=bucket_name, Key=file_key)\n",
    "        json_data = response['Body'].read().decode('utf-8')\n",
    "        data = json.loads(json_data)\n",
    "        df = pd.DataFrame(data['data'])  # Assuming the data is under the 'data' key\n",
    "        return df\n",
    "    except Exception as e:\n",
    "        print(f\"Error loading JSON from S3: {e}\")\n",
    "        return None\n",
    "\n",
    "# Load the BLS data (Part 1)\n",
    "bls_df = load_csv_from_s3(s3_client, S3_BUCKET, \"pr.data.0.Current\")\n",
    "\n",
    "# Load the population data (Part 2)\n",
    "population_df = load_json_from_s3(s3_client, S3_BUCKET, \"datausa_population.json\")\n",
    "\n",
    "# Display the first few rows of each DataFrame to verify loading\n",
    "print(\"BLS Data:\")\n",
    "if bls_df is not None:\n",
    "    print(bls_df.head())\n",
    "    print (\"BLS loaded\")\n",
    "    #Print columns to load accurately\n",
    "    print(\"Columns in BLS data:\", bls_df.columns)\n",
    "else:\n",
    "    print(\"BLS data failed to load\")\n",
    "\n",
    "print(\"\\nPopulation Data:\")\n",
    "if population_df is not None:\n",
    "    print(population_df.head())\n",
    "    print (\"Population data loaded\")\n",
    "    print(\"Columns in Population data:\", population_df.columns)\n",
    "else:\n",
    "    print (\"Population data is none\")\n"
   ]
  },
  {
   "cell_type": "markdown",
   "id": "67674bae-cacd-4483-bc8b-757c14013b12",
   "metadata": {},
   "source": [
    "Population Data Analysis"
   ]
  },
  {
   "cell_type": "code",
   "execution_count": 4,
   "id": "d4383106-6c86-4101-b6ee-2162eeaf48cd",
   "metadata": {},
   "outputs": [
    {
     "name": "stdout",
     "output_type": "stream",
     "text": [
      "Mean Population (2013-2018): 317,437,383.00\n",
      "Standard Deviation of Population (2013-2018): 4,257,089.54\n"
     ]
    }
   ],
   "source": [
    "if population_df is not None:\n",
    "    # Filter population data for years 2013 to 2018 (inclusive)\n",
    "    population_df = population_df[(population_df['Year'] >= '2013') & (population_df['Year'] <= '2018')]\n",
    "\n",
    "    # Convert 'Population' column to numeric (if it's not already)\n",
    "    population_df['Population'] = pd.to_numeric(population_df['Population'])\n",
    "\n",
    "    # Calculate the mean and standard deviation of the population\n",
    "    population_mean = population_df['Population'].mean()\n",
    "    population_std = population_df['Population'].std()\n",
    "\n",
    "    print(f\"Mean Population (2013-2018): {population_mean:,.2f}\")\n",
    "    print(f\"Standard Deviation of Population (2013-2018): {population_std:,.2f}\")\n",
    "else:\n",
    "    print(\"population data was not loaded\")\n"
   ]
  },
  {
   "cell_type": "markdown",
   "id": "1f798673-f0c0-4978-86be-0b9ce4a14d09",
   "metadata": {},
   "source": [
    "Time-Series Data Analysis"
   ]
  },
  {
   "cell_type": "code",
   "execution_count": 8,
   "id": "039f1b99-51a8-4251-a728-6c4e32e45b86",
   "metadata": {},
   "outputs": [
    {
     "name": "stdout",
     "output_type": "stream",
     "text": [
      "One or more required columns ('series_id', 'value', 'year') not found in BLS data. Skipping Time-Series Analysis.\n"
     ]
    }
   ],
   "source": [
    "if bls_df is not None:\n",
    "    # Ensure correct column name before proceeding\n",
    "    if 'series_id' not in bls_df.columns or 'value' not in bls_df.columns or 'year' not in bls_df.columns:\n",
    "        print(\"One or more required columns ('series_id', 'value', 'year') not found in BLS data. Skipping Time-Series Analysis.\")\n",
    "    else:\n",
    "        # Convert 'value' column to numeric and handle errors\n",
    "        bls_df['value'] = pd.to_numeric(bls_df['value'], errors='coerce')\n",
    "\n",
    "        # Group by series_id and year, and sum the values\n",
    "        grouped_bls = bls_df.groupby(['series_id', 'year'])['value'].sum().reset_index()\n",
    "\n",
    "        # Find the best year for each series_id\n",
    "        best_years = grouped_bls.loc[grouped_bls.groupby('series_id')['value'].idxmax()]\n",
    "\n",
    "        # Generate the report\n",
    "        report_df = best_years[['series_id', 'year', 'value']]\n",
    "        report_df.rename(columns={'value': 'summed_value'}, inplace=True)\n",
    "\n",
    "        print(\"\\nBest Year Report:\")\n",
    "        print(report_df)\n",
    "else:\n",
    "    print (\"bls_data is none\")\n"
   ]
  },
  {
   "cell_type": "markdown",
   "id": "a35fe72b-0f0a-4cfd-959a-d33eee63a654",
   "metadata": {},
   "source": [
    "Combined Data Analysis"
   ]
  },
  {
   "cell_type": "code",
   "execution_count": 11,
   "id": "0620194a-2c90-46bd-9ec4-b3fef563c903",
   "metadata": {},
   "outputs": [
    {
     "name": "stdout",
     "output_type": "stream",
     "text": [
      "One or more required columns ('series_id', 'value', 'year') not found in BLS data. Skipping Time-Series Analysis.\n"
     ]
    }
   ],
   "source": [
    "if bls_df is not None:\n",
    "    # Ensure correct column name before proceeding\n",
    "    if 'series_id' not in bls_df.columns or 'value' not in bls_df.columns or 'year' not in bls_df.columns:\n",
    "        print(\"One or more required columns ('series_id', 'value', 'year') not found in BLS data. Skipping Time-Series Analysis.\")\n",
    "    else:\n",
    "        # Convert 'value' column to numeric and handle errors\n",
    "        bls_df['value'] = pd.to_numeric(bls_df['value'], errors='coerce')\n",
    "\n",
    "        # Group by series_id and year, and sum the values\n",
    "        grouped_bls = bls_df.groupby(['series_id', 'year'])['value'].sum().reset_index()\n",
    "\n",
    "        # Find the best year for each series_id\n",
    "        best_years = grouped_bls.loc[grouped_bls.groupby('series_id')['value'].idxmax()]\n",
    "\n",
    "        # Generate the report\n",
    "        report_df = best_years[['series_id', 'year', 'value']]\n",
    "        report_df.rename(columns={'value': 'summed_value'}, inplace=True)\n",
    "\n",
    "        print(\"\\nBest Year Report:\")\n",
    "        print(report_df)\n",
    "else:\n",
    "    print (\"bls_data is none\")\n"
   ]
  },
  {
   "cell_type": "markdown",
   "id": "5fa43502-a4d6-496d-9ccc-38694c0bbd89",
   "metadata": {},
   "source": [
    "Find the Best Year for Each series_id Rearc requires:\n",
    "\n",
    "For each series_id, find the year with the highest sum of \"value\"."
   ]
  },
  {
   "cell_type": "code",
   "execution_count": null,
   "id": "976de11c-6501-4c21-9b08-4a7e2986f085",
   "metadata": {},
   "outputs": [],
   "source": []
  }
 ],
 "metadata": {
  "kernelspec": {
   "display_name": "Python 3 (ipykernel)",
   "language": "python",
   "name": "python3"
  },
  "language_info": {
   "codemirror_mode": {
    "name": "ipython",
    "version": 3
   },
   "file_extension": ".py",
   "mimetype": "text/x-python",
   "name": "python",
   "nbconvert_exporter": "python",
   "pygments_lexer": "ipython3",
   "version": "3.8.10"
  }
 },
 "nbformat": 4,
 "nbformat_minor": 5
}
