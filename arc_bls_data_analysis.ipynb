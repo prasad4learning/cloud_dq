{
 "cells": [
  {
   "cell_type": "markdown",
   "id": "be22fed5-88f1-490a-9348-3a45205f44cb",
   "metadata": {},
   "source": [
    "Data Analytics Starts from here"
   ]
  },
  {
   "cell_type": "markdown",
   "id": "38f81f34-68d1-444c-beb5-a0f50946e1ae",
   "metadata": {},
   "source": [
    "Importing Libraries"
   ]
  },
  {
   "cell_type": "code",
   "execution_count": 2,
   "id": "bb37147a-5cc4-4a04-b805-5f11bf08155a",
   "metadata": {},
   "outputs": [],
   "source": [
    "import pandas as pd\n",
    "import json\n",
    "import boto3\n",
    "from io import StringIO, BytesIO\n",
    "\n",
    "# Enable pandas options for better output readability\n",
    "pd.set_option('display.max_columns', None)  \n",
    "pd.set_option('display.width', 1000)\n"
   ]
  },
  {
   "cell_type": "markdown",
   "id": "26f036fb-3d6d-4b31-844c-c4e3ee07f17e",
   "metadata": {},
   "source": [
    "Load Datasets from S3\n",
    "1. Time-Series Data (pr.data.0.Current)\n",
    "2. Population Data (datausa_population.json)"
   ]
  },
  {
   "cell_type": "markdown",
   "id": "b6688250-081a-4327-81af-d2fe8f2b8f7d",
   "metadata": {},
   "source": [
    "Load Time-Series Data from S3 (pr.data.0.Current)"
   ]
  },
  {
   "cell_type": "code",
   "execution_count": 3,
   "id": "c79edbc4-82ae-4804-9b51-f8fc4fd2e2b4",
   "metadata": {},
   "outputs": [
    {
     "name": "stdout",
     "output_type": "stream",
     "text": [
      "🔹 BLS Time-Series Data (pr.data.0.Current):\n",
      "   series_id          year period  value footnote_codes\n",
      "0  PRS30006011        1995    Q01    2.6            NaN\n",
      "1  PRS30006011        1995    Q02    2.1            NaN\n",
      "2  PRS30006011        1995    Q03    0.9            NaN\n",
      "3  PRS30006011        1995    Q04    0.1            NaN\n",
      "4  PRS30006011        1995    Q05    1.4            NaN\n"
     ]
    }
   ],
   "source": [
    "# AWS S3 Configuration\n",
    "S3_BUCKET = \"arc-cloud-dq\"\n",
    "s3 = boto3.client(\"s3\")\n",
    "\n",
    "# Define file paths\n",
    "csv_key = \"pr.data.0.Current\"\n",
    "\n",
    "# Fetch CSV from S3\n",
    "response = s3.get_object(Bucket=S3_BUCKET, Key=csv_key)\n",
    "\n",
    "# Read the CSV file into a DataFrame\n",
    "bls_df = pd.read_csv(response[\"Body\"], delimiter=\"\\t\", skipinitialspace=True)\n",
    "\n",
    "# Display first few rows\n",
    "print(\"🔹 BLS Time-Series Data (pr.data.0.Current):\")\n",
    "print(bls_df.head())\n"
   ]
  },
  {
   "cell_type": "markdown",
   "id": "9d280e3b-7b74-46d3-a658-60d260f4ca8a",
   "metadata": {},
   "source": [
    "Trimming Whitespaces as per hints: skipinitialspace=True ensures leading/trailing spaces are removed.\n",
    "Delimiter Issues: Tab-separated (\\t) ensures correct parsing.\n",
    "Column Name Cleanup:  refining this in the next step."
   ]
  },
  {
   "cell_type": "markdown",
   "id": "bc2103db-f669-4cbb-9067-d2c299ed4ff0",
   "metadata": {},
   "source": [
    "Load Population Data from S3 (datausa_population.json)"
   ]
  },
  {
   "cell_type": "code",
   "execution_count": 4,
   "id": "3226a7e2-15bf-4cca-a013-4f6e91ca78cc",
   "metadata": {},
   "outputs": [
    {
     "name": "stdout",
     "output_type": "stream",
     "text": [
      "\n",
      "🔹 Population Data (datausa_population.json):\n",
      "  ID Nation         nation  ID Year  year  population    Slug Nation\n",
      "0   01000US  United States     2022  2022   331097593  united-states\n",
      "1   01000US  United States     2021  2021   329725481  united-states\n",
      "2   01000US  United States     2020  2020   326569308  united-states\n",
      "3   01000US  United States     2019  2019   324697795  united-states\n",
      "4   01000US  United States     2018  2018   322903030  united-states\n"
     ]
    }
   ],
   "source": [
    "# Load JSON file from S3\n",
    "json_key = \"datausa_population.json\"\n",
    "response = s3.get_object(Bucket=S3_BUCKET, Key=json_key)\n",
    "\n",
    "# Parse JSON into a dictionary\n",
    "population_data = json.loads(response[\"Body\"].read())\n",
    "\n",
    "# Convert to Pandas DataFrame\n",
    "pop_df = pd.DataFrame(population_data[\"data\"])\n",
    "\n",
    "# Rename columns for clarity\n",
    "pop_df = pop_df.rename(columns={\"Nation\": \"nation\", \"Population\": \"population\", \"Year\": \"year\"})\n",
    "\n",
    "# Convert year & population to integers\n",
    "pop_df[\"year\"] = pop_df[\"year\"].astype(int)\n",
    "pop_df[\"population\"] = pop_df[\"population\"].astype(int)\n",
    "\n",
    "print(\"\\n🔹 Population Data (datausa_population.json):\")\n",
    "print(pop_df.head())\n"
   ]
  },
  {
   "cell_type": "markdown",
   "id": "2827daeb-217a-498c-aaf1-45c858b2360b",
   "metadata": {},
   "source": [
    "Parsing JSON Safely: Using json.loads().\n",
    "Renaming Columns: More meaningful names (year, population).\n",
    "Converting Data Types: Prevents errors in computations."
   ]
  },
  {
   "cell_type": "markdown",
   "id": "343f1c1d-9ce6-4f84-b06b-a5301e5eb7db",
   "metadata": {},
   "source": [
    "Data Cleaning & Standardization\n",
    "Now, we clean both datasets to ensure smooth merging & filtering."
   ]
  },
  {
   "cell_type": "code",
   "execution_count": 5,
   "id": "28f04001-a52e-4189-a41e-6903bec0b679",
   "metadata": {},
   "outputs": [
    {
     "name": "stdout",
     "output_type": "stream",
     "text": [
      "✅ Cleaned BLS Time-Series Data:\n",
      "       series_id  year period    value footnote_codes\n",
      "147  PRS30006011  2024    Q03   -0.500              R\n",
      "447  PRS30006013  2024    Q03  103.852              R\n",
      "597  PRS30006021  2024    Q03   -0.400              R\n",
      "747  PRS30006022  2024    Q03   -1.700              R\n",
      "897  PRS30006023  2024    Q03   97.062              R\n"
     ]
    }
   ],
   "source": [
    "# Trim whitespace in column names\n",
    "bls_df.columns = bls_df.columns.str.strip()\n",
    "\n",
    "# Trim whitespace in all string columns\n",
    "bls_df = bls_df.applymap(lambda x: x.strip() if isinstance(x, str) else x)\n",
    "\n",
    "# Convert `year` column to integer\n",
    "bls_df[\"year\"] = pd.to_numeric(bls_df[\"year\"], errors='coerce').astype(\"Int64\")  # Handles NaN safely\n",
    "\n",
    "# Convert `value` column to float\n",
    "bls_df[\"value\"] = pd.to_numeric(bls_df[\"value\"], errors='coerce')\n",
    "\n",
    "# Drop NaN rows if needed\n",
    "bls_df = bls_df.dropna()\n",
    "\n",
    "# Display cleaned data\n",
    "print(\"✅ Cleaned BLS Time-Series Data:\")\n",
    "print(bls_df.head())\n"
   ]
  },
  {
   "cell_type": "markdown",
   "id": "f7badb39-62b9-4355-b206-1b9b336e81a8",
   "metadata": {},
   "source": [
    "Whitespace Removal: Ensures column names & data are clean.\n",
    "Data Type Conversion: Prevents merging issues.\n",
    "Handling Missing Values: dropna() removes problematic rows."
   ]
  },
  {
   "cell_type": "markdown",
   "id": "da724a16-e4c6-465a-ac81-d9087107c195",
   "metadata": {},
   "source": [
    "Compute Population Statistics (Mean & Std Dev) -- Find the mean and standard deviation of the US population from 2013 to 2018."
   ]
  },
  {
   "cell_type": "code",
   "execution_count": 7,
   "id": "3ceb2dcb-919e-4405-acd3-17f2766f16b3",
   "metadata": {},
   "outputs": [
    {
     "name": "stdout",
     "output_type": "stream",
     "text": [
      "✅ Mean Population (2013-2018): 317437383.0\n",
      "✅ Standard Deviation of Population (2013-2018): 4257089.5415293295\n"
     ]
    }
   ],
   "source": [
    "# Filter for years 2013-2018\n",
    "pop_filtered_df = pop_df[(pop_df[\"year\"] >= 2013) & (pop_df[\"year\"] <= 2018)]\n",
    "\n",
    "# Compute statistics\n",
    "mean_population = pop_filtered_df[\"population\"].mean()\n",
    "std_population = pop_filtered_df[\"population\"].std()\n",
    "\n",
    "print(f\"✅ Mean Population (2013-2018): {mean_population}\")\n",
    "print(f\"✅ Standard Deviation of Population (2013-2018): {std_population}\")\n"
   ]
  },
  {
   "cell_type": "markdown",
   "id": "96c65721-e455-417d-a133-d5ab0782c440",
   "metadata": {},
   "source": [
    "Find the Best Year for Each series_id\n",
    "Rearc requires:\n",
    "\n",
    "For each series_id, find the year with the highest sum of \"value\"."
   ]
  },
  {
   "cell_type": "code",
   "execution_count": 10,
   "id": "b46a20f4-d806-4f47-8a63-0d265f6b74ca",
   "metadata": {},
   "outputs": [
    {
     "name": "stdout",
     "output_type": "stream",
     "text": [
      "✅ Best Year Per Series ID:\n",
      "     series_id  year  max_annual_value\n",
      "0  PRS30006011  2024            -0.500\n",
      "1  PRS30006013  2024           103.852\n",
      "2  PRS30006021  2024            -0.400\n",
      "3  PRS30006022  2024            -1.700\n",
      "4  PRS30006023  2024            97.062\n"
     ]
    }
   ],
   "source": [
    "# Aggregate by `series_id` and `year`\n",
    "best_year_df = bls_df.groupby([\"series_id\", \"year\"])[\"value\"].sum().reset_index()\n",
    "\n",
    "# Identify the best year for each series_id\n",
    "best_year_df = best_year_df.loc[best_year_df.groupby(\"series_id\")[\"value\"].idxmax()]\n",
    "\n",
    "# Rename column for clarity\n",
    "best_year_df = best_year_df.rename(columns={\"value\": \"max_annual_value\"})\n",
    "\n",
    "print(\"✅ Best Year Per Series ID:\")\n",
    "print(best_year_df.head())\n"
   ]
  },
  {
   "cell_type": "markdown",
   "id": "69af3120-fea5-4d0c-84bd-2989ed6286bc",
   "metadata": {},
   "source": [
    "Generate a Report for PRS30006032  -- Find the value for PRS30006032 in Q01 and match it with population."
   ]
  },
  {
   "cell_type": "code",
   "execution_count": 12,
   "id": "40408c7e-060c-427e-97da-831843701f12",
   "metadata": {},
   "outputs": [
    {
     "name": "stdout",
     "output_type": "stream",
     "text": [
      "✅ Final Report:\n",
      "Empty DataFrame\n",
      "Columns: [series_id, year, period, value, population]\n",
      "Index: []\n"
     ]
    }
   ],
   "source": [
    "# Filter for PRS30006032 and Q01\n",
    "filtered_bls_df = bls_df[(bls_df[\"series_id\"] == \"PRS30006032\") & (bls_df[\"period\"] == \"Q01\")]\n",
    "\n",
    "# Merge with Population Data\n",
    "final_report = filtered_bls_df.merge(pop_df, on=\"year\", how=\"left\")[[\"series_id\", \"year\", \"period\", \"value\", \"population\"]]\n",
    "\n",
    "print(\"✅ Final Report:\")\n",
    "print(final_report)\n"
   ]
  },
  {
   "cell_type": "code",
   "execution_count": 13,
   "id": "39306b19-4fe7-4e03-b31e-ee9effbf94c9",
   "metadata": {},
   "outputs": [
    {
     "name": "stdout",
     "output_type": "stream",
     "text": [
      "['PRS30006011' 'PRS30006013' 'PRS30006021' 'PRS30006022' 'PRS30006023'\n",
      " 'PRS30006032' 'PRS30006033' 'PRS30006061' 'PRS30006062' 'PRS30006063'\n",
      " 'PRS30006091' 'PRS30006092' 'PRS30006093' 'PRS30006101' 'PRS30006102'\n",
      " 'PRS30006103' 'PRS30006112' 'PRS30006113' 'PRS30006151' 'PRS30006152'\n",
      " 'PRS30006153' 'PRS30006162' 'PRS30006163' 'PRS30006211' 'PRS30006212'\n",
      " 'PRS30006213' 'PRS31006022' 'PRS31006023' 'PRS31006032' 'PRS31006033'\n",
      " 'PRS31006062' 'PRS31006063' 'PRS31006091' 'PRS31006092' 'PRS31006093'\n",
      " 'PRS31006101' 'PRS31006102' 'PRS31006103' 'PRS31006112' 'PRS31006113'\n",
      " 'PRS31006152' 'PRS31006153' 'PRS31006161' 'PRS31006162' 'PRS31006163'\n",
      " 'PRS31006212' 'PRS31006213' 'PRS32006012' 'PRS32006013' 'PRS32006022'\n",
      " 'PRS32006023' 'PRS32006032' 'PRS32006033' 'PRS32006061' 'PRS32006062'\n",
      " 'PRS32006063' 'PRS32006091' 'PRS32006092' 'PRS32006093' 'PRS32006101'\n",
      " 'PRS32006102' 'PRS32006103' 'PRS32006112' 'PRS32006113' 'PRS32006151'\n",
      " 'PRS32006152' 'PRS32006153' 'PRS32006161' 'PRS32006162' 'PRS32006163'\n",
      " 'PRS32006211' 'PRS32006212' 'PRS32006213' 'PRS84006013' 'PRS84006021'\n",
      " 'PRS84006022' 'PRS84006023' 'PRS84006032' 'PRS84006033' 'PRS84006041'\n",
      " 'PRS84006042' 'PRS84006043' 'PRS84006051' 'PRS84006052' 'PRS84006053'\n",
      " 'PRS84006061' 'PRS84006062' 'PRS84006063' 'PRS84006081' 'PRS84006082'\n",
      " 'PRS84006083' 'PRS84006091' 'PRS84006092' 'PRS84006093' 'PRS84006101'\n",
      " 'PRS84006102' 'PRS84006103' 'PRS84006111' 'PRS84006112' 'PRS84006113'\n",
      " 'PRS84006131' 'PRS84006132' 'PRS84006133' 'PRS84006141' 'PRS84006142'\n",
      " 'PRS84006143' 'PRS84006151' 'PRS84006152' 'PRS84006153' 'PRS84006161'\n",
      " 'PRS84006162' 'PRS84006163' 'PRS84006171' 'PRS84006172' 'PRS84006173'\n",
      " 'PRS85006013' 'PRS85006022' 'PRS85006023' 'PRS85006031' 'PRS85006032'\n",
      " 'PRS85006033' 'PRS85006042' 'PRS85006043' 'PRS85006051' 'PRS85006052'\n",
      " 'PRS85006053' 'PRS85006062' 'PRS85006063' 'PRS85006081' 'PRS85006082'\n",
      " 'PRS85006083' 'PRS85006091' 'PRS85006092' 'PRS85006093' 'PRS85006102'\n",
      " 'PRS85006103' 'PRS85006112' 'PRS85006113' 'PRS85006131' 'PRS85006132'\n",
      " 'PRS85006133' 'PRS85006143' 'PRS85006152' 'PRS85006153' 'PRS85006161'\n",
      " 'PRS85006162' 'PRS85006163' 'PRS85006171' 'PRS85006172' 'PRS85006173'\n",
      " 'PRS88003013' 'PRS88003022' 'PRS88003023' 'PRS88003032' 'PRS88003033'\n",
      " 'PRS88003041' 'PRS88003042' 'PRS88003043' 'PRS88003052' 'PRS88003053'\n",
      " 'PRS88003063' 'PRS88003081' 'PRS88003082' 'PRS88003083' 'PRS88003092'\n",
      " 'PRS88003093' 'PRS88003102' 'PRS88003103' 'PRS88003111' 'PRS88003112'\n",
      " 'PRS88003113' 'PRS88003122' 'PRS88003123' 'PRS88003132' 'PRS88003133'\n",
      " 'PRS88003142' 'PRS88003143' 'PRS88003152' 'PRS88003153' 'PRS88003161'\n",
      " 'PRS88003162' 'PRS88003163' 'PRS88003172' 'PRS88003173' 'PRS88003181'\n",
      " 'PRS88003182' 'PRS88003183' 'PRS88003191' 'PRS88003192' 'PRS88003193'\n",
      " 'PRS88003202' 'PRS88003203']\n"
     ]
    }
   ],
   "source": [
    "print(bls_df[\"series_id\"].unique())"
   ]
  },
  {
   "cell_type": "code",
   "execution_count": 14,
   "id": "2c769e57-b43f-4e87-80f9-70a29baca37c",
   "metadata": {},
   "outputs": [
    {
     "name": "stdout",
     "output_type": "stream",
     "text": [
      "['Q03' 'Q02']\n"
     ]
    }
   ],
   "source": [
    "print(bls_df[\"period\"].unique())"
   ]
  },
  {
   "cell_type": "code",
   "execution_count": null,
   "id": "906c9d57-17b9-44ab-b827-b8a264884e77",
   "metadata": {},
   "outputs": [],
   "source": []
  }
 ],
 "metadata": {
  "kernelspec": {
   "display_name": "Python 3 (ipykernel)",
   "language": "python",
   "name": "python3"
  },
  "language_info": {
   "codemirror_mode": {
    "name": "ipython",
    "version": 3
   },
   "file_extension": ".py",
   "mimetype": "text/x-python",
   "name": "python",
   "nbconvert_exporter": "python",
   "pygments_lexer": "ipython3",
   "version": "3.8.10"
  }
 },
 "nbformat": 4,
 "nbformat_minor": 5
}
